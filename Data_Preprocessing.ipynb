{
 "cells": [
  {
   "cell_type": "code",
   "execution_count": null,
   "metadata": {},
   "outputs": [
    {
     "name": "stdout",
     "output_type": "stream",
     "text": [
      "Translation completed. Saved to C:/Users/aadit/OneDrive/Desktop/Cyberthon/train_dataset_cleaned.csv\n"
     ]
    },
    {
     "ename": "",
     "evalue": "",
     "output_type": "error",
     "traceback": [
      "\u001b[1;31mThe Kernel crashed while executing code in the current cell or a previous cell. \n",
      "\u001b[1;31mPlease review the code in the cell(s) to identify a possible cause of the failure. \n",
      "\u001b[1;31mClick <a href='https://aka.ms/vscodeJupyterKernelCrash'>here</a> for more info. \n",
      "\u001b[1;31mView Jupyter <a href='command:jupyter.viewOutput'>log</a> for further details."
     ]
    }
   ],
   "source": [
    "import pandas as pd\n",
    "from google.cloud import translate_v3 as translate\n",
    "import os\n",
    "\n",
    "os.environ[\"GOOGLE_APPLICATION_CREDENTIALS\"] = \"C:/Users/aadit/Downloads/phonic-palace-453909-h2-5f685fc34061.json\"\n",
    "os.environ[\"GOOGLE_CLOUD_PROJECT\"] = \"phonic-palace-453909-h2\"\n",
    "\n",
    "client = translate.TranslationServiceClient()\n",
    "parent = f\"projects/{os.environ['GOOGLE_CLOUD_PROJECT']}/locations/global\"\n",
    "\n",
    "file_path = \"C:/Users/aadit/OneDrive/Desktop/Cyberthon/train_dataset.csv\"\n",
    "df = pd.read_csv(file_path)\n",
    "\n",
    "column_name = \"crimeaditionalinfo\"  \n",
    "\n",
    "def detect_language(text):\n",
    "    if pd.isna(text) or not isinstance(text, str):\n",
    "        return \"\"\n",
    "    response = client.detect_language(\n",
    "        request={\n",
    "            \"parent\": parent,\n",
    "            \"content\": text,\n",
    "        }\n",
    "    )\n",
    "    return response.languages[0].language_code\n",
    "\n",
    "def translate_to_english(text, source_lang):\n",
    "    if pd.isna(text) or not isinstance(text, str) or source_lang == \"en\":\n",
    "        return text  \n",
    "    response = client.translate_text(\n",
    "        parent=parent,\n",
    "        contents=[text],\n",
    "        mime_type=\"text/plain\",\n",
    "        source_language_code=source_lang,\n",
    "        target_language_code=\"en\",\n",
    "    )\n",
    "    return response.translations[0].translated_text\n",
    "\n",
    "df[\"Detected Language\"] = df[column_name].apply(detect_language)\n",
    "df[\"English Translation\"] = df.apply(lambda row: translate_to_english(row[column_name], row[\"Detected Language\"]), axis=1)\n",
    "\n",
    "output_path = \"C:/Users/aadit/OneDrive/Desktop/Cyberthon/train_dataset_cleaned.csv\"\n",
    "df.to_csv(output_path, index=False)\n",
    "print(f\"Translation completed. Saved to {output_path}\")\n"
   ]
  },
  {
   "cell_type": "code",
   "execution_count": null,
   "metadata": {},
   "outputs": [
    {
     "name": "stdout",
     "output_type": "stream",
     "text": [
      "(93686, 5)\n"
     ]
    }
   ],
   "source": [
    "import pandas as pd\n",
    "train = pd.read_csv(\"train_dataset_cleaned.csv\", low_memory=False)\n",
    "print(train.shape)\n",
    "\n"
   ]
  },
  {
   "cell_type": "code",
   "execution_count": 4,
   "metadata": {},
   "outputs": [
    {
     "name": "stdout",
     "output_type": "stream",
     "text": [
      "(84956, 5)\n",
      "(84956, 5)\n"
     ]
    }
   ],
   "source": [
    "train = train.drop_duplicates('English Translation')\n",
    "print(train.shape)\n",
    "\n",
    "train = train[~train['English Translation'].isnull()].reset_index(drop=True)\n",
    "print(train.shape)"
   ]
  },
  {
   "cell_type": "code",
   "execution_count": 5,
   "metadata": {},
   "outputs": [
    {
     "name": "stdout",
     "output_type": "stream",
     "text": [
      "Train saved\n"
     ]
    }
   ],
   "source": [
    "train.to_csv(\"C:/Users/aadit/OneDrive/Desktop/Cyberthon/final_train.csv\",index=False)\n",
    "print(\"Train saved\")"
   ]
  },
  {
   "cell_type": "code",
   "execution_count": 1,
   "metadata": {},
   "outputs": [
    {
     "name": "stderr",
     "output_type": "stream",
     "text": [
      "c:\\Users\\aadit\\anaconda\\envs\\pytorch_env\\Lib\\site-packages\\sklearn\\base.py:376: InconsistentVersionWarning: Trying to unpickle estimator LabelEncoder from version 1.6.1 when using version 1.5.0. This might lead to breaking code or invalid results. Use at your own risk. For more info please refer to:\n",
      "https://scikit-learn.org/stable/model_persistence.html#security-maintainability-limitations\n",
      "  warnings.warn(\n"
     ]
    }
   ],
   "source": [
    "import torch\n",
    "from transformers import AutoTokenizer, AutoModelForSequenceClassification\n",
    "import joblib\n",
    "\n",
    "# Load the saved model and tokenizer\n",
    "model_path = './bert-fine-tuned-1'\n",
    "model = AutoModelForSequenceClassification.from_pretrained(model_path)\n",
    "tokenizer = AutoTokenizer.from_pretrained(model_path)\n",
    "label_encoder = joblib.load(model_path + '/label_encoder.pkl')\n",
    "\n"
   ]
  },
  {
   "cell_type": "code",
   "execution_count": null,
   "metadata": {},
   "outputs": [],
   "source": [
    "import torch\n",
    "\n",
    "def predict(text):\n",
    "    inputs = tokenizer(text, return_tensors=\"pt\", truncation=True, padding=True, max_length=128)\n",
    "\n",
    "    inputs = {k: v.to(model.device) for k, v in inputs.items()}\n",
    "\n",
    "    outputs = model(**inputs)\n",
    "    prediction = torch.argmax(outputs.logits, dim=-1).item()\n",
    "    return label_encoder.inverse_transform([prediction])[0]\n",
    "\n",
    "print(predict(\"Sensitive financial data was leaked.\"))"
   ]
  },
  {
   "cell_type": "code",
   "execution_count": null,
   "metadata": {},
   "outputs": [
    {
     "name": "stdout",
     "output_type": "stream",
     "text": [
      "Detected language: hi\n",
      "English translation: He called and said that you have won a lottery and asked for the AC number and the ATM number and then said that you will get the money but I did not get the money, after that he said that if you send a thousand rupees for this then you will get it, so I sent the money, then I found out who was the fraud.\n"
     ]
    }
   ],
   "source": [
    "from google.cloud import translate_v3 as translate\n",
    "import os\n",
    "\n",
    "os.environ[\"GOOGLE_APPLICATION_CREDENTIALS\"] = \"C:/Users/aadit/Downloads/symmetric-math-448204-i2-b7ef3bb20c55.json\"\n",
    "os.environ[\"GOOGLE_CLOUD_PROJECT\"] = \"symmetric-math-448204-i2\"  \n",
    "\n",
    "client = translate.TranslationServiceClient()\n",
    "\n",
    "text_to_detect = \"Call karke bola ki aapka lotary laga ha aru AC no maga aru atm ka numbers aru phir bola pasa aayega lekin pasa nahi aaya uskebad bola ki is  par thousand bhej do to aajayega to hum ne pasa bhej diya phir pata chala ki who fraud tha\"\n",
    "\n",
    "parent = f\"projects/{os.environ['GOOGLE_CLOUD_PROJECT']}/locations/global\"\n",
    "response = client.detect_language(\n",
    "\trequest={\n",
    "\t\t\"parent\": parent,\n",
    "\t\t\"content\": text_to_detect,\n",
    "\t}\n",
    ")\n",
    "def translate_to_english(text):\n",
    "\tresponse = client.translate_text(\n",
    "\t\tparent=parent,\n",
    "\t\tcontents=[text],\n",
    "\t\tmime_type=\"text/plain\", \n",
    "\t\tsource_language_code=detected_language,\n",
    "\t\ttarget_language_code=\"en\",\n",
    "\t)\n",
    "\treturn response.translations[0].translated_text\n",
    "\n",
    "detected_language = response.languages[0].language_code\n",
    "\n",
    "print(f\"Detected language: {detected_language}\") \n",
    "english_translation = translate_to_english(text_to_detect)\n",
    "print(f\"English translation: {english_translation}\")\n",
    "\n",
    "\n"
   ]
  },
  {
   "cell_type": "code",
   "execution_count": 7,
   "metadata": {},
   "outputs": [
    {
     "name": "stdout",
     "output_type": "stream",
     "text": [
      "Translated text: Call Karke Bola Ki Aapka Lotary Laga Ha AC No Maga Au ATM Ka Numbers Aru Phir Phir Phir Bola Pasa Aayega lekin pasa nahi aaya uskebad bola ki is par thousand bhej do to hum nej di to hum nej di to hum nej di to hum nebhej diya phir pata chala ki who fraud tha\n"
     ]
    }
   ],
   "source": [
    "from googletrans import Translator\n",
    "\n",
    "translator = Translator()\n",
    "\n",
    "def translate_text(text):\n",
    "    return translator.translate(text, src='auto', dest='en').text\n",
    "\n",
    "text = \"Call karke bola ki aapka lotary laga ha aru AC no maga aru atm ka numbers aru phir bola pasa aayega lekin pasa nahi aaya uskebad bola ki is  par thousand bhej do to aajayega to hum ne pasa bhej diya phir pata chala ki who fraud tha\"\n",
    "translated_text = translate_text(text)\n",
    "print(f\"Translated text: {translated_text}\")"
   ]
  }
 ],
 "metadata": {
  "kernelspec": {
   "display_name": "pytorch_env",
   "language": "python",
   "name": "python3"
  },
  "language_info": {
   "codemirror_mode": {
    "name": "ipython",
    "version": 3
   },
   "file_extension": ".py",
   "mimetype": "text/x-python",
   "name": "python",
   "nbconvert_exporter": "python",
   "pygments_lexer": "ipython3",
   "version": "3.12.3"
  }
 },
 "nbformat": 4,
 "nbformat_minor": 2
}
